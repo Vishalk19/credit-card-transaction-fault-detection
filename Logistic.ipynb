{
 "cells": [
  {
   "cell_type": "code",
   "execution_count": 1,
   "metadata": {
    "id": "gIMK4HlPJkgG"
   },
   "outputs": [],
   "source": [
    "#imported all the libraries used\n",
    "\n",
    "import numpy as np\n",
    "import pandas as pd\n",
    "import seaborn as sb\n",
    "import matplotlib.pyplot as plt\n",
    "import sklearn\n",
    "from sklearn.metrics import mean_squared_error\n",
    "from sklearn.preprocessing import StandardScaler\n",
    "from sklearn.linear_model import Ridge\n",
    "from sklearn.linear_model import Lasso\n",
    "import seaborn as sns\n",
    "from sklearn.model_selection import GridSearchCV\n",
    "from sklearn.preprocessing import MinMaxScaler\n",
    "from sklearn.preprocessing import RobustScaler\n",
    "from sklearn.linear_model import LogisticRegression\n",
    "from sklearn.preprocessing import LabelEncoder\n",
    "from sklearn.utils import shuffle\n",
    "from sklearn.metrics import precision_recall_curve\n",
    "from sklearn.metrics import auc\n",
    "from sklearn.model_selection import KFold"
   ]
  },
  {
   "cell_type": "code",
   "execution_count": 2,
   "metadata": {
    "colab": {
     "base_uri": "https://localhost:8080/"
    },
    "id": "GVR3Iw3eJogE",
    "outputId": "287d57e5-d4a7-4658-b049-621c30e21fee"
   },
   "outputs": [
    {
     "ename": "ModuleNotFoundError",
     "evalue": "No module named 'google.colab'",
     "output_type": "error",
     "traceback": [
      "\u001b[1;31m---------------------------------------------------------------------------\u001b[0m",
      "\u001b[1;31mModuleNotFoundError\u001b[0m                       Traceback (most recent call last)",
      "\u001b[1;32m<ipython-input-2-8702b14912a5>\u001b[0m in \u001b[0;36m<module>\u001b[1;34m\u001b[0m\n\u001b[0;32m      1\u001b[0m \u001b[1;31m#mounted drive to upload csv file\u001b[0m\u001b[1;33m\u001b[0m\u001b[1;33m\u001b[0m\u001b[1;33m\u001b[0m\u001b[0m\n\u001b[0;32m      2\u001b[0m \u001b[1;33m\u001b[0m\u001b[0m\n\u001b[1;32m----> 3\u001b[1;33m \u001b[1;32mfrom\u001b[0m \u001b[0mgoogle\u001b[0m\u001b[1;33m.\u001b[0m\u001b[0mcolab\u001b[0m \u001b[1;32mimport\u001b[0m \u001b[0mdrive\u001b[0m\u001b[1;33m\u001b[0m\u001b[1;33m\u001b[0m\u001b[0m\n\u001b[0m\u001b[0;32m      4\u001b[0m \u001b[0mdrive\u001b[0m\u001b[1;33m.\u001b[0m\u001b[0mmount\u001b[0m\u001b[1;33m(\u001b[0m\u001b[1;34m'/content/drive'\u001b[0m\u001b[1;33m,\u001b[0m \u001b[0mforce_remount\u001b[0m\u001b[1;33m=\u001b[0m\u001b[1;32mTrue\u001b[0m\u001b[1;33m)\u001b[0m\u001b[1;33m\u001b[0m\u001b[1;33m\u001b[0m\u001b[0m\n",
      "\u001b[1;31mModuleNotFoundError\u001b[0m: No module named 'google.colab'"
     ]
    }
   ],
   "source": [
    "#mounted drive to upload csv file\n",
    "\n",
    "# from google.colab import drive\n",
    "# drive.mount('/content/drive', force_remount=True)"
   ]
  },
  {
   "cell_type": "code",
   "execution_count": null,
   "metadata": {
    "colab": {
     "base_uri": "https://localhost:8080/",
     "height": 1000
    },
    "id": "hUsmfsoMJrsN",
    "outputId": "f784f22e-e334-4727-a4fd-8af8bb7fb617"
   },
   "outputs": [],
   "source": [
    "#path defined from which csv file is read\n",
    "path=\"/content/drive/MyDrive/small_data.csv\"\n",
    "data = pd.read_csv(path)\n",
    "\n",
    "path_cards=\"/content/drive/MyDrive/sd254_cards.csv\"\n",
    "data_cards = pd.read_csv(path_cards)\n",
    "\n",
    "path_users=\"/content/drive/MyDrive/sd254_users.csv\"\n",
    "data_users = pd.read_csv(path_users)\n",
    "#One-hot encoding for categorical feature 'Sex'\n",
    "#data = pd.get_dummies(data, columns = ['Sex'])\n",
    "\n",
    "#Displayed datatypes and null/non-null values\n",
    "print(\"Info on transactions\")\n",
    "print(data.info())\n",
    "\n",
    "print()\n",
    "print(\"Info on cards\")\n",
    "print(data_cards.info())\n",
    "\n",
    "print()\n",
    "print(\"Info on users\")\n",
    "print(data_users.info())\n",
    "#Displayed feature statistics\n",
    "print()\n",
    "print(\"Transactions Statistics\")\n",
    "display(data.describe())\n",
    "\n",
    "print()\n",
    "print(\"Cards Statistics\")\n",
    "display(data_cards.describe())\n",
    "\n",
    "print()\n",
    "print(\"User Statistics\")\n",
    "display(data_users.describe())\n",
    "\n",
    "\n",
    "#Labeled all features and target\n",
    "#data = data[['Sex_F', 'Sex_I', 'Sex_M', 'Length', 'Diameter', 'Height', 'Whole Weight', 'Shucked Weight', 'Viscera Weight', 'Shell Weight', 'Rings']]\n",
    "\n",
    "#Scaled data - mean = 0, var = 1\n",
    "#scaler = StandardScaler()\n",
    "#data[['Length', 'Diameter', 'Height', 'Whole Weight', 'Shucked Weight', 'Viscera Weight', 'Shell Weight']] = scaler.fit_transform(data[['Length', 'Diameter', 'Height', 'Whole Weight', 'Shucked Weight', 'Viscera Weight', 'Shell Weight']])"
   ]
  },
  {
   "cell_type": "code",
   "execution_count": null,
   "metadata": {
    "colab": {
     "base_uri": "https://localhost:8080/",
     "height": 615
    },
    "id": "El-8TcX4W4_T",
    "outputId": "df5264f8-ccdb-444a-973e-d8ef0ad6b9f9"
   },
   "outputs": [],
   "source": [
    "data"
   ]
  },
  {
   "cell_type": "code",
   "execution_count": null,
   "metadata": {
    "colab": {
     "base_uri": "https://localhost:8080/",
     "height": 419
    },
    "id": "ZzXRgJdmW7L8",
    "outputId": "6b42d334-c4d0-432e-f859-3788a7ba874f"
   },
   "outputs": [],
   "source": [
    "data_cards"
   ]
  },
  {
   "cell_type": "code",
   "execution_count": null,
   "metadata": {
    "colab": {
     "base_uri": "https://localhost:8080/",
     "height": 538
    },
    "id": "BxHvsDI4W8PA",
    "outputId": "e40221a7-6288-4e4c-f994-971fccaedd48"
   },
   "outputs": [],
   "source": [
    "data_users"
   ]
  },
  {
   "cell_type": "code",
   "execution_count": null,
   "metadata": {
    "colab": {
     "base_uri": "https://localhost:8080/"
    },
    "id": "MEXRI742Ml_N",
    "outputId": "df8d4cd8-3240-4b56-ac73-7c37932123b0"
   },
   "outputs": [],
   "source": [
    "print(data['Is Fraud?'].value_counts())\n",
    "print()\n",
    "print(data[\"Errors?\"].value_counts())\n",
    "print()\n",
    "#data[\"Use Chip\"].value_count()\n",
    "print(data_cards[\"Card Brand\"].value_counts())\n",
    "print()\n",
    "print(data_cards[\"Card Type\"].value_counts())\n",
    "print()\n",
    "print(data_cards[\"Card on Dark Web\"].value_counts())"
   ]
  },
  {
   "cell_type": "code",
   "execution_count": null,
   "metadata": {
    "id": "qaSdJ6Th8xhe"
   },
   "outputs": [],
   "source": [
    "data = data.drop(['Unnamed: 0', 'Month', 'Day', 'Time', 'Merchant Name', 'Merchant City', 'Merchant State', 'Zip'], axis = 1)\n",
    "data_cards = data_cards.drop(['Card Number', 'Expires', 'CVV', 'Has Chip', 'Cards Issued', 'Acct Open Date', 'Card on Dark Web'], axis = 1)\n",
    "data_users = data_users.drop(['Person', 'Retirement Age', 'Birth Month', 'Birth Year',  'Address', 'Apartment', 'City', 'State','Zipcode' ,'Latitude', 'Longitude', 'Per Capita Income - Zipcode', 'Num Credit Cards'], axis=1)"
   ]
  },
  {
   "cell_type": "code",
   "execution_count": null,
   "metadata": {
    "id": "UopcjKXmwgBE"
   },
   "outputs": [],
   "source": [
    "data['Amount'] = data['Amount'].apply(lambda x: x[1:])\n",
    "data['Amount'] = pd.to_numeric(data['Amount'])\n",
    "\n",
    "data_cards['Credit Limit'] = data_cards['Credit Limit'].apply(lambda x: x[1:])\n",
    "data_cards['Credit Limit'] = pd.to_numeric(data_cards['Credit Limit'])\n",
    "\n",
    "data_users['Yearly Income - Person'] = data_users['Yearly Income - Person'].apply(lambda x: x[1:])\n",
    "data_users['Yearly Income - Person'] = pd.to_numeric(data_users['Yearly Income - Person'])\n",
    "data_users['Total Debt'] = data_users['Total Debt'].apply(lambda x: x[1:])\n",
    "data_users['Total Debt'] = pd.to_numeric(data_users['Total Debt'])"
   ]
  },
  {
   "cell_type": "code",
   "execution_count": null,
   "metadata": {
    "id": "E5yVKCQkwla0"
   },
   "outputs": [],
   "source": [
    "encoder = LabelEncoder()\n",
    "\n",
    "data = data.fillna('')\n",
    "data['Errors?']= encoder.fit_transform(data['Errors?'])\n",
    "data['Use Chip']= encoder.fit_transform(data['Use Chip'])\n",
    "data['Is Fraud?']= encoder.fit_transform(data['Is Fraud?'])\n",
    "\n",
    "data_cards = data_cards.fillna('')\n",
    "data_cards['Card Brand']= encoder.fit_transform(data_cards['Card Brand'])\n",
    "data_cards['Card Type']= encoder.fit_transform(data_cards['Card Type'])\n",
    "\n",
    "data_users = data_users.fillna('')\n",
    "data_users['Gender']= encoder.fit_transform(data_users['Gender'])"
   ]
  },
  {
   "cell_type": "code",
   "execution_count": null,
   "metadata": {
    "id": "nGtwiB6RZJoM"
   },
   "outputs": [],
   "source": [
    "data_users['User'] = data_users.index"
   ]
  },
  {
   "cell_type": "code",
   "execution_count": null,
   "metadata": {
    "colab": {
     "base_uri": "https://localhost:8080/",
     "height": 458
    },
    "id": "SdparDVjYs4a",
    "outputId": "32cd6de0-5bdc-446e-d4ec-3a8b8d3598df"
   },
   "outputs": [],
   "source": [
    "data = data.join(data_cards.set_index(['User', 'CARD INDEX']), on=['User', 'Card'])\n",
    "data = data.join(data_users.set_index('User'), on='User')\n",
    "data"
   ]
  },
  {
   "cell_type": "code",
   "execution_count": null,
   "metadata": {
    "id": "8niUnhHFZpY7"
   },
   "outputs": [],
   "source": [
    "data = data.sample(frac=1).reset_index(drop=True)"
   ]
  },
  {
   "cell_type": "code",
   "execution_count": null,
   "metadata": {
    "colab": {
     "base_uri": "https://localhost:8080/",
     "height": 419
    },
    "id": "Dz-HIpuEaeip",
    "outputId": "677b04cc-01c9-451a-b333-5c7fe6ff6658"
   },
   "outputs": [],
   "source": [
    "data"
   ]
  },
  {
   "cell_type": "code",
   "execution_count": null,
   "metadata": {
    "colab": {
     "base_uri": "https://localhost:8080/",
     "height": 1000
    },
    "id": "ab-szNB-N0oZ",
    "outputId": "d397ad35-18cf-4039-a4d8-d621a2646071"
   },
   "outputs": [],
   "source": [
    "#Box plots and distribution curves of all features\n",
    "\n",
    "fig, ax = plt.subplots(16, 2, figsize = (20, 20))\n",
    "sns.boxplot(x= data[\"User\"], ax = ax[0,0])\n",
    "sns.distplot(data['User'], ax = ax[0,1])\n",
    "sns.boxplot(x= data[\"Card\"], ax = ax[1,0])\n",
    "sns.distplot(data['Card'], ax = ax[1,1])\n",
    "sns.boxplot(x= data[\"Year\"], ax = ax[2,0])\n",
    "sns.distplot(data['Year'], ax = ax[2,1])\n",
    "sns.boxplot(x= data[\"Amount\"], ax = ax[3,0])\n",
    "sns.distplot(data['Amount'], ax = ax[3,1])\n",
    "sns.boxplot(x= data[\"Use Chip\"], ax = ax[4,0])\n",
    "sns.distplot(data['Use Chip'], ax = ax[4,1])\n",
    "sns.boxplot(x= data[\"MCC\"], ax = ax[5,0])\n",
    "sns.distplot(data['MCC'], ax = ax[5,1])\n",
    "sns.boxplot(x= data[\"Errors?\"], ax = ax[6,0])\n",
    "sns.distplot(data['Errors?'], ax = ax[6,1])\n",
    "sns.boxplot(x= data[\"Card Brand\"], ax = ax[7,0])\n",
    "sns.distplot(data['Card Brand'], ax = ax[7,1])\n",
    "sns.boxplot(x= data[\"Card Type\"], ax = ax[8,0])\n",
    "sns.distplot(data['Card Type'], ax = ax[8,1])\n",
    "sns.boxplot(x= data[\"Credit Limit\"], ax = ax[9,0])\n",
    "sns.distplot(data['Credit Limit'], ax = ax[9,1])\n",
    "sns.boxplot(x= data[\"Year PIN last Changed\"], ax = ax[10,0])\n",
    "sns.distplot(data['Year PIN last Changed'], ax = ax[10,1])\n",
    "sns.boxplot(x= data[\"Current Age\"], ax = ax[11,0])\n",
    "sns.distplot(data['Current Age'], ax = ax[11,1])\n",
    "sns.boxplot(x= data[\"Gender\"], ax = ax[12,0])\n",
    "sns.distplot(data['Gender'], ax = ax[12,1])\n",
    "sns.boxplot(x= data[\"Yearly Income - Person\"], ax = ax[13,0])\n",
    "sns.distplot(data['Yearly Income - Person'], ax = ax[13,1])\n",
    "sns.boxplot(x= data[\"Total Debt\"], ax = ax[14,0])\n",
    "sns.distplot(data['Total Debt'], ax = ax[14,1])\n",
    "sns.boxplot(x= data[\"FICO Score\"], ax = ax[15,0])\n",
    "sns.distplot(data['FICO Score'], ax = ax[15,1])\n",
    "\n",
    "plt.tight_layout()"
   ]
  },
  {
   "cell_type": "code",
   "execution_count": null,
   "metadata": {
    "colab": {
     "base_uri": "https://localhost:8080/",
     "height": 334
    },
    "id": "bvoixc-ReLIq",
    "outputId": "ab1fe272-e0e4-483c-fbf3-3aabcf85d874"
   },
   "outputs": [],
   "source": [
    "#Distribution curves of target\n",
    "\n",
    "plot = sns.distplot(data['Is Fraud?'])\n",
    "plot.figure.savefig(\"2.PNG\")"
   ]
  },
  {
   "cell_type": "code",
   "execution_count": null,
   "metadata": {
    "colab": {
     "base_uri": "https://localhost:8080/",
     "height": 372
    },
    "id": "rMePifNDXtAA",
    "outputId": "1b8dd420-e235-4e60-bacf-50234fd8cb74"
   },
   "outputs": [],
   "source": [
    "corr = data.corr()\n",
    "dataplot = sb.heatmap(corr, cmap=\"YlGnBu\")\n",
    "data = data.iloc[:,:]\n",
    "dataplot.figure.savefig(\"3.PNG\")"
   ]
  },
  {
   "cell_type": "code",
   "execution_count": null,
   "metadata": {
    "colab": {
     "base_uri": "https://localhost:8080/",
     "height": 458
    },
    "id": "gPZ5s1hmeelW",
    "outputId": "f35b2e75-edd6-461d-c3f9-9ee1b09c818b"
   },
   "outputs": [],
   "source": [
    "data = data[['User', 'Card', 'Year',\t'Amount',\t'Use Chip',\t'MCC',\t'Errors?',\t'Card Brand',\t'Card Type',\t'Credit Limit',\t'Year PIN last Changed',\t'Current Age',\t'Gender',\t'Yearly Income - Person',\t'Total Debt',\t'FICO Score', \t'Is Fraud?']]\n",
    "data"
   ]
  },
  {
   "cell_type": "code",
   "execution_count": null,
   "metadata": {
    "id": "XUrWZPaQFjQ4"
   },
   "outputs": [],
   "source": [
    "np_data = np.array(data)\n",
    "X = np_data\n",
    "Y = np_data\n",
    "X = X[:,0: (X.shape[1] - 1)]\n",
    "Y = Y[:, X.shape[1]]\n",
    "\n",
    "X = np.c_[np.ones(X.shape[0]), X]\n",
    "\n",
    "X_train = X[0: int(0.8*X.shape[0]), :]\n",
    "X_test = X[int(0.8*X.shape[0]):, :]\n",
    "Y = Y.reshape(Y.shape[0], 1)\n",
    "Y_train = Y[0:int(0.8*Y.shape[0]), :]\n",
    "Y_test = Y[int(0.8*Y.shape[0]):, :]"
   ]
  },
  {
   "cell_type": "markdown",
   "metadata": {
    "id": "BgCeUSiQuwoA"
   },
   "source": [
    "# **First cell below** - \n",
    "Standardize features by removing the mean and scaling to unit variance.\n",
    "\n",
    "The standard score of a sample x is calculated as:\n",
    "\n",
    "z = (x - u) / s\n",
    "\n",
    "where u is the mean of the training samples or zero if with_mean=False, and s is the standard deviation of the training samples or one if with_std=False.\n",
    "\n",
    "# **Second cell below** - \n",
    "Transform features by scaling each feature to a given range.\n",
    "\n",
    "This estimator scales and translates each feature individually such that it is in the given range on the training set, e.g. between zero and one.\n",
    "\n",
    "The transformation is given by:\n",
    "\n",
    "X_std = (X - X.min(axis=0)) / (X.max(axis=0) - X.min(axis=0))\n",
    "X_scaled = X_std * (max - min) + min\n",
    "where min, max = feature_range.\n",
    "\n",
    "# **Third cell below** - \n",
    "Scale features using statistics that are robust to outliers.\n",
    "\n",
    "This Scaler removes the median and scales the data according to the quantile range (defaults to IQR: Interquartile Range). The IQR is the range between the 1st quartile (25th quantile) and the 3rd quartile (75th quantile).\n",
    "\n",
    "Centering and scaling happen independently on each feature by computing the relevant statistics on the samples in the training set. Median and interquartile range are then stored to be used on later data using the transform method."
   ]
  },
  {
   "cell_type": "code",
   "execution_count": null,
   "metadata": {
    "id": "PUKI2hNDcoRA"
   },
   "outputs": [],
   "source": [
    "np_data = np.array(data)\n",
    "X_mm = np_data\n",
    "Y_mm = np_data\n",
    "X_mm = X_mm[:,0: (X_mm.shape[1] - 1)]\n",
    "Y_mm = Y_mm[:, X_mm.shape[1]]\n",
    "\n",
    "scaler = MinMaxScaler()\n",
    "X_mm = scaler.fit_transform(X_mm)\n",
    "\n",
    "X_mm = np.c_[np.ones(X_mm.shape[0]), X_mm]\n",
    "\n",
    "X_train_mm = X_mm[0: int(0.8*X_mm.shape[0]), :]\n",
    "X_test_mm = X_mm[int(0.8*X_mm.shape[0]):, :]\n",
    "Y_mm = Y_mm.reshape(Y_mm.shape[0], 1)\n",
    "Y_train_mm = Y_mm[0:int(0.8*Y_mm.shape[0]), :]\n",
    "Y_test_mm = Y_mm[int(0.8*Y_mm.shape[0]):, :]"
   ]
  },
  {
   "cell_type": "code",
   "execution_count": null,
   "metadata": {
    "id": "c48paEXzco_u"
   },
   "outputs": [],
   "source": [
    "np_data = np.array(data)\n",
    "X_ss = np_data\n",
    "Y_ss = np_data\n",
    "X_ss = X_ss[:,0: (X_ss.shape[1] - 1)]\n",
    "Y_ss = Y_ss[:, X_ss.shape[1]]\n",
    "\n",
    "scaler = StandardScaler()\n",
    "X_ss = scaler.fit_transform(X_ss)\n",
    "\n",
    "X_ss = np.c_[np.ones(X_ss.shape[0]), X_ss]\n",
    "\n",
    "X_train_ss = X_ss[0: int(0.8*X_ss.shape[0]), :]\n",
    "X_test_ss = X_ss[int(0.8*X_ss.shape[0]):, :]\n",
    "Y_ss = Y_ss.reshape(Y_ss.shape[0], 1)\n",
    "Y_train_ss = Y_ss[0:int(0.8*Y_ss.shape[0]), :]\n",
    "Y_test_ss = Y_ss[int(0.8*Y_ss.shape[0]):, :]"
   ]
  },
  {
   "cell_type": "code",
   "execution_count": null,
   "metadata": {
    "id": "gDkwfZNBcpTN"
   },
   "outputs": [],
   "source": [
    "np_data = np.array(data)\n",
    "X_r = np_data\n",
    "Y_r= np_data\n",
    "X_r = X_r[:,0: (X_r.shape[1] - 1)]\n",
    "Y_r = Y_r[:, X_r.shape[1]]\n",
    "\n",
    "scaler = RobustScaler()\n",
    "X_r = scaler.fit_transform(X_r)\n",
    "\n",
    "X_r = np.c_[np.ones(X_r.shape[0]), X_r]\n",
    "\n",
    "X_train_r = X_r[0: int(0.8*X_r.shape[0]), :]\n",
    "X_test_r = X_r[int(0.8*X_r.shape[0]):, :]\n",
    "Y_r = Y_r.reshape(Y_r.shape[0], 1)\n",
    "Y_train_r = Y_r[0:int(0.8*Y_r.shape[0]), :]\n",
    "Y_test_r = Y_r[int(0.8*Y_r.shape[0]):, :]"
   ]
  },
  {
   "cell_type": "code",
   "execution_count": null,
   "metadata": {
    "colab": {
     "base_uri": "https://localhost:8080/"
    },
    "id": "lyyLqMckfxkD",
    "outputId": "b7d35032-0ab5-455a-e2fa-c403a6ee58a7"
   },
   "outputs": [],
   "source": [
    "clf = LogisticRegression().fit(X_train, Y_train)\n",
    "clf_mm = LogisticRegression().fit(X_train_mm, Y_train_mm)\n",
    "clf_ss = LogisticRegression().fit(X_train_ss, Y_train_ss)\n",
    "clf_r = LogisticRegression().fit(X_train_r, Y_train_r)"
   ]
  },
  {
   "cell_type": "code",
   "execution_count": null,
   "metadata": {
    "colab": {
     "base_uri": "https://localhost:8080/"
    },
    "id": "6jPv0Xpn3Uy7",
    "outputId": "797fa1a8-9d90-41aa-d49c-99c92aa78f66"
   },
   "outputs": [],
   "source": [
    "print(\"For training - \")\n",
    "print(clf.score(X_train, Y_train))\n",
    "print(clf_mm.score(X_train_mm, Y_train_mm))\n",
    "print(clf_ss.score(X_train_ss, Y_train_ss))\n",
    "print(clf_r.score(X_train_r, Y_train_r))\n",
    "print()\n",
    "print(\"For testing - \")\n",
    "print(clf.score(X_test, Y_test))\n",
    "print(clf_mm.score(X_test_mm, Y_test_mm))\n",
    "print(clf_ss.score(X_test_ss, Y_test_ss))\n",
    "print(clf_r.score(X_test_r, Y_test_r))"
   ]
  },
  {
   "cell_type": "code",
   "execution_count": null,
   "metadata": {
    "id": "-DJ48t64eY1k"
   },
   "outputs": [],
   "source": [
    "Y_pred = clf.predict(X_test)\n",
    "Y_pred_mm = clf_mm.predict(X_test_mm)\n",
    "Y_pred_ss = clf_ss.predict(X_test_ss)\n",
    "Y_pred_r = clf_r.predict(X_test_r)\n"
   ]
  },
  {
   "cell_type": "code",
   "execution_count": null,
   "metadata": {
    "colab": {
     "base_uri": "https://localhost:8080/"
    },
    "id": "2v8U3h-2eZAX",
    "outputId": "7b399ef3-b1f5-4425-871b-5378918fa656"
   },
   "outputs": [],
   "source": [
    "first = 0\n",
    "second = 0\n",
    "third = 0\n",
    "fourth = 0\n",
    "\n",
    "#For No preprocessing\n",
    "#Computed True positives, False positives, False Negatives and True Negatives\n",
    "\n",
    "total_pred = Y_pred.shape[0]\n",
    "for i in range(Y_pred.shape[0]):\n",
    "    if Y_pred[i] == Y_test[i][0] and Y_test[i][0] == 1.0:\n",
    "        first = first + 1\n",
    "    if Y_pred[i] != Y_test[i][0] and Y_test[i][0] == 1.0:\n",
    "        second = second + 1\n",
    "    if Y_pred[i] != Y_test[i][0] and Y_test[i][0] == 0.0:\n",
    "        third = third + 1\n",
    "    if Y_pred[i] == Y_test[i][0] and Y_test[i][0] == 0.0:\n",
    "        fourth = fourth + 1\n",
    "\n",
    "#Constructed confusion matrix\n",
    "confusion_matrix = np.array([[first, second], [third, fourth]])\n",
    "\n",
    "#Computed Accuracy, Precision, Recall and f_1 Score and printed them\n",
    "precision = first/(first+second)\n",
    "recall = first/(first+third)\n",
    "print(\"Confusion matrix (No pre processing):\")\n",
    "print(str(confusion_matrix))\n",
    "print(\"Accuracy: \", str((first+fourth)/(first+second+third+fourth) * 100), \"%\")\n",
    "print(\"Precision: \", str(precision))\n",
    "print(\"Recall: \", str(recall))\n",
    "print(\"f1_Score: \", str(2*((precision*recall)/(precision+recall))))\n",
    "\n",
    "#For max min scaled data\n",
    "#Computed True positives, False positives, False Negatives and True Negatives\n",
    "\n",
    "first = 0\n",
    "second = 0\n",
    "third = 0\n",
    "fourth = 0\n",
    "\n",
    "total_pred = Y_pred_mm.shape[0]\n",
    "for i in range(Y_pred_mm.shape[0]):\n",
    "    if Y_pred_mm[i] == Y_test_mm[i][0] and Y_test_mm[i][0] == 1.0:\n",
    "        first = first + 1\n",
    "    if Y_pred_mm[i] != Y_test_mm[i][0] and Y_test_mm[i][0] == 1.0:\n",
    "        second = second + 1\n",
    "    if Y_pred_mm[i] != Y_test_mm[i][0] and Y_test_mm[i][0] == 0.0:\n",
    "        third = third + 1\n",
    "    if Y_pred_mm[i] == Y_test_mm[i][0] and Y_test_mm[i][0] == 0.0:\n",
    "        fourth = fourth + 1\n",
    "\n",
    "#Constructed confusion matrix\n",
    "confusion_matrix = np.array([[first, second], [third, fourth]])\n",
    "\n",
    "#Computed Accuracy, Precision, Recall and f_1 Score and printed them\n",
    "precision = first/(first+second)\n",
    "recall = first/(first+third)\n",
    "print()\n",
    "print(\"Confusion matrix (Max Min scaling):\")\n",
    "print(str(confusion_matrix))\n",
    "print(\"Accuracy: \", str((first+fourth)/(first+second+third+fourth) * 100), \"%\")\n",
    "print(\"Precision: \", str(precision))\n",
    "print(\"Recall: \", str(recall))\n",
    "print(\"f1_Score: \", str(2*((precision*recall)/(precision+recall))))\n",
    "\n",
    "#####\n",
    "\n",
    "first = 0\n",
    "second = 0\n",
    "third = 0\n",
    "fourth = 0\n",
    "\n",
    "#For Standard scaling data\n",
    "#Computed True positives, False positives, False Negatives and True Negatives\n",
    "\n",
    "total_pred = Y_pred_ss.shape[0]\n",
    "for i in range(Y_pred_ss.shape[0]):\n",
    "    if Y_pred_ss[i] == Y_test_ss[i][0] and Y_test_ss[i][0] == 1.0:\n",
    "        first = first + 1\n",
    "    if Y_pred_ss[i] != Y_test_ss[i][0] and Y_test_ss[i][0] == 1.0:\n",
    "        second = second + 1\n",
    "    if Y_pred_ss[i] != Y_test_ss[i][0] and Y_test_ss[i][0] == 0.0:\n",
    "        third = third + 1\n",
    "    if Y_pred_ss[i] == Y_test_ss[i][0] and Y_test_ss[i][0] == 0.0:\n",
    "        fourth = fourth + 1\n",
    "\n",
    "#Constructed confusion matrix\n",
    "confusion_matrix = np.array([[first, second], [third, fourth]])\n",
    "\n",
    "#Computed Accuracy, Precision, Recall and f_1 Score and printed them\n",
    "precision = first/(first+second)\n",
    "recall = first/(first+third)\n",
    "print()\n",
    "print(\"Confusion matrix (Standard scaling)):\")\n",
    "print(str(confusion_matrix))\n",
    "print(\"Accuracy: \", str((first+fourth)/(first+second+third+fourth) * 100), \"%\")\n",
    "print(\"Precision: \", str(precision))\n",
    "print(\"Recall: \", str(recall))\n",
    "print(\"f1_Score: \", str(2*((precision*recall)/(precision+recall))))\n",
    "\n",
    "#For robust scaling\n",
    "#Computed True positives, False positives, False Negatives and True Negatives\n",
    "\n",
    "first = 0\n",
    "second = 0\n",
    "third = 0\n",
    "fourth = 0\n",
    "\n",
    "total_pred = Y_pred_r.shape[0]\n",
    "for i in range(Y_pred_r.shape[0]):\n",
    "    if Y_pred_r[i] == Y_test_r[i][0] and Y_test_r[i][0] == 1.0:\n",
    "        first = first + 1\n",
    "    if Y_pred_r[i] != Y_test_r[i][0] and Y_test_r[i][0] == 1.0:\n",
    "        second = second + 1\n",
    "    if Y_pred_r[i] != Y_test_r[i][0] and Y_test_r[i][0] == 0.0:\n",
    "        third = third + 1\n",
    "    if Y_pred_r[i] == Y_test_r[i][0] and Y_test_r[i][0] == 0.0:\n",
    "        fourth = fourth + 1\n",
    "\n",
    "#Constructed confusion matrix\n",
    "confusion_matrix = np.array([[first, second], [third, fourth]])\n",
    "\n",
    "#Computed Accuracy, Precision, Recall and f_1 Score and printed them\n",
    "precision = first/(first+second)\n",
    "recall = first/(first+third)\n",
    "print()\n",
    "print(\"Confusion matrix (Robust scaling):\")\n",
    "print(str(confusion_matrix))\n",
    "print(\"Accuracy: \", str((first+fourth)/(first+second+third+fourth) * 100), \"%\")\n",
    "print(\"Precision: \", str(precision))\n",
    "print(\"Recall: \", str(recall))\n",
    "print(\"f1_Score: \", str(2*((precision*recall)/(precision+recall))))\n"
   ]
  },
  {
   "cell_type": "code",
   "execution_count": null,
   "metadata": {
    "id": "sD0lVbRDhGvp"
   },
   "outputs": [],
   "source": [
    "fig.savefig(\"1.PNG\")"
   ]
  },
  {
   "cell_type": "code",
   "execution_count": null,
   "metadata": {
    "colab": {
     "base_uri": "https://localhost:8080/",
     "height": 313
    },
    "id": "uQq6tyucCpU9",
    "outputId": "04e78767-f2de-46e4-cff9-4bd201db2476"
   },
   "outputs": [],
   "source": [
    "pred_y=clf.predict(X_test) \n",
    "\n",
    "probs_y=clf.predict_proba(X_test) \n",
    "\n",
    "precision, recall, thresholds = precision_recall_curve(Y_test, probs_y[:, 1]) \n",
    "   #retrieve probability of being 1(in second column of probs_y)\n",
    "pr_auc = auc(recall, precision)\n",
    "\n",
    "plt.title(\"Precision-Recall vs Threshold Chart\")\n",
    "plt.plot(thresholds, precision[: -1], \"b--\", label=\"Precision\")\n",
    "plt.plot(thresholds, recall[: -1], \"r--\", label=\"Recall\")\n",
    "plt.ylabel(\"Precision, Recall\")\n",
    "plt.xlabel(\"Threshold\")\n",
    "plt.legend(loc=\"lower left\")\n",
    "plt.ylim([0,1])"
   ]
  },
  {
   "cell_type": "code",
   "execution_count": null,
   "metadata": {
    "colab": {
     "base_uri": "https://localhost:8080/",
     "height": 313
    },
    "id": "lnrTHlsiEaRO",
    "outputId": "0499ccd1-ae44-45a4-8ee4-7bc29749122c"
   },
   "outputs": [],
   "source": [
    "precision1, recall1, thresholds1 = precision_recall_curve(Y_test, probs_y[:, 0])\n",
    "fig1, ax1 = plt.subplots()\n",
    "ax1.plot(precision, recall, label = 'Fraud')\n",
    "ax1.plot(precision1, recall1, label = 'Not Fraud')\n",
    "ax1.legend()\n",
    "ax1.set_title(\"ROC Curves\")\n",
    "ax1.set_xlabel(\"False Positive Rate\")\n",
    "ax1.set_ylabel(\"True Positive Rate\")\n"
   ]
  },
  {
   "cell_type": "code",
   "execution_count": null,
   "metadata": {
    "colab": {
     "base_uri": "https://localhost:8080/"
    },
    "id": "_i4IN72JgLPg",
    "outputId": "454f41aa-50b5-4957-bdf9-3cba38ff4fee"
   },
   "outputs": [],
   "source": [
    "base_model = LogisticRegression()\n",
    "solvers = ['newton-cg', 'lbfgs', 'liblinear']\n",
    "penalty = ['l2']\n",
    "c_values = [100, 10, 1.0, 0.1, 0.01]\n",
    "param_grid = dict(solver=solvers,penalty=penalty,C=c_values)\n",
    "cv = KFold(n_splits = 5)\n",
    "\n",
    "grid_search_recall = GridSearchCV(estimator=base_model, param_grid=param_grid, n_jobs=-1, cv=cv, scoring='recall',error_score=0)\n",
    "grid_result_recall = grid_search_recall.fit(X_train, Y_train)\n",
    "\n",
    "grid_search_precision = GridSearchCV(estimator=base_model, param_grid=param_grid, n_jobs=-1, cv=cv, scoring='precision',error_score=0)\n",
    "grid_result_precision = grid_search_precision.fit(X_train, Y_train)\n",
    "\n",
    "grid_search_accuracy = GridSearchCV(estimator=base_model, param_grid=param_grid, n_jobs=-1, cv=cv, scoring='accuracy',error_score=0)\n",
    "grid_result_accuracy = grid_search_accuracy.fit(X_train, Y_train)\n"
   ]
  },
  {
   "cell_type": "code",
   "execution_count": null,
   "metadata": {
    "colab": {
     "base_uri": "https://localhost:8080/"
    },
    "id": "GBI24lQ0JbX1",
    "outputId": "6ecd6214-9d4d-41bf-c15f-1765e4d083a1"
   },
   "outputs": [],
   "source": [
    "score_arr_recall = grid_search_recall.cv_results_['mean_test_score'].reshape(len(c_values), len(solvers))\n",
    "score_arr_recall = score_arr_recall.T\n",
    "c_values_str = list(map(str, c_values))\n",
    "print(\"Recall scores\")\n",
    "print(score_arr_recall)\n",
    "\n",
    "score_arr_precision = grid_search_precision.cv_results_['mean_test_score'].reshape(len(c_values), len(solvers))\n",
    "score_arr_precision = score_arr_precision.T\n",
    "c_values_str = list(map(str, c_values))\n",
    "print(\"Precision scores\")\n",
    "print(score_arr_precision)\n",
    "\n",
    "\n",
    "score_arr_accuracy = grid_search_accuracy.cv_results_['mean_test_score'].reshape(len(c_values), len(solvers))\n",
    "score_arr_accuracy = score_arr_accuracy.T\n",
    "c_values_str = list(map(str, c_values))\n",
    "print(\"Accuracy scores\")\n",
    "print(score_arr_accuracy)"
   ]
  },
  {
   "cell_type": "code",
   "execution_count": null,
   "metadata": {
    "colab": {
     "base_uri": "https://localhost:8080/",
     "height": 907
    },
    "id": "PeB8endi78WU",
    "outputId": "4a275627-8977-4c8f-b74a-284a12188de7"
   },
   "outputs": [],
   "source": [
    "\n",
    "fig, ax = plt.subplots(1,3, figsize = (15,4))\n",
    "fig.suptitle('Recall Plots')\n",
    "ax[0].bar(c_values_str, score_arr_recall[0], label = '1')\n",
    "ax[0].set_title('Solver - Newton-cg')\n",
    "ax[0].set_xlabel('C-Values')\n",
    "ax[0].set_ylabel('Score')\n",
    "ax[1].bar(c_values_str, score_arr_recall[1], label = '1')\n",
    "ax[1].set_title('Solver - lbfgs')\n",
    "ax[1].set_xlabel('C-Values')\n",
    "ax[1].set_ylabel('Score')\n",
    "ax[2].bar(c_values_str, score_arr_recall[2], label = '1')\n",
    "ax[2].set_title('Solver - liblinear')\n",
    "ax[2].set_xlabel('C-Values')\n",
    "ax[2].set_ylabel('Score')\n",
    "\n",
    "fig, ax = plt.subplots(1,3, figsize = (15,4))\n",
    "fig.suptitle('Precision Plots')\n",
    "ax[0].bar(c_values_str, score_arr_precision[0], label = '1')\n",
    "ax[0].set_title('Solver - Newton-cg')\n",
    "ax[0].set_xlabel('C-Values')\n",
    "ax[0].set_ylabel('Score')\n",
    "ax[1].bar(c_values_str, score_arr_precision[1], label = '1')\n",
    "ax[1].set_title('Solver - lbfgs')\n",
    "ax[1].set_xlabel('C-Values')\n",
    "ax[1].set_ylabel('Score')\n",
    "ax[2].bar(c_values_str, score_arr_precision[2], label = '1')\n",
    "ax[2].set_title('Solver - liblinear')\n",
    "ax[2].set_xlabel('C-Values')\n",
    "ax[2].set_ylabel('Score')\n",
    "\n",
    "fig, ax = plt.subplots(1,3, figsize = (15,4))\n",
    "fig.suptitle('Accuracy Plots')\n",
    "ax[0].bar(c_values_str, score_arr_accuracy[0], label = '1')\n",
    "ax[0].set_title('Solver - Newton-cg')\n",
    "ax[0].set_xlabel('C-Values')\n",
    "ax[0].set_ylabel('Score')\n",
    "ax[1].bar(c_values_str, score_arr_accuracy[1], label = '1')\n",
    "ax[1].set_title('Solver - lbfgs')\n",
    "ax[1].set_xlabel('C-Values')\n",
    "ax[1].set_ylabel('Score')\n",
    "ax[2].bar(c_values_str, score_arr_accuracy[2], label = '1')\n",
    "ax[2].set_title('Solver - liblinear')\n",
    "ax[2].set_xlabel('C-Values')\n",
    "ax[2].set_ylabel('Score')\n"
   ]
  },
  {
   "cell_type": "code",
   "execution_count": null,
   "metadata": {
    "colab": {
     "base_uri": "https://localhost:8080/"
    },
    "id": "Xmx8QG8RnD45",
    "outputId": "3d3e144a-d8c7-4566-e4da-316a2ca21a7e"
   },
   "outputs": [],
   "source": [
    "print(\"Best recall: %f using %s\" % (grid_result_recall.best_score_, grid_result_recall.best_params_))\n",
    "means_recall = grid_result_recall.cv_results_['mean_test_score']\n",
    "stds_recall = grid_result_recall.cv_results_['std_test_score']\n",
    "params_recall = grid_result_recall.cv_results_['params']\n",
    "\n",
    "print(\"Best precision: %f using %s\" % (grid_result_precision.best_score_, grid_result_precision.best_params_))\n",
    "means_precision = grid_result_precision.cv_results_['mean_test_score']\n",
    "stds_precision = grid_result_precision.cv_results_['std_test_score']\n",
    "params_precision = grid_result_precision.cv_results_['params']\n",
    "\n",
    "print(\"Best accuracy: %f using %s\" % (grid_result_accuracy.best_score_, grid_result_accuracy.best_params_))\n",
    "means_accuracy = grid_result_accuracy.cv_results_['mean_test_score']\n",
    "stds_accuracy = grid_result_accuracy.cv_results_['std_test_score']\n",
    "params_accuracy = grid_result_accuracy.cv_results_['params']\n",
    "\n",
    "print()\n",
    "print(\"Best model: Solver: %s, C_value: %f\" % (solvers[0], c_values[4]))\n",
    "print(\"Accuracy: %f, Precision: %f, Recall: %f\" % (score_arr_accuracy[0][4], score_arr_precision[0][4], score_arr_recall[0][4]))"
   ]
  }
 ],
 "metadata": {
  "colab": {
   "collapsed_sections": [],
   "name": "ML_Project_fin_fraud.ipynb",
   "provenance": []
  },
  "kernelspec": {
   "display_name": "Python 3",
   "language": "python",
   "name": "python3"
  },
  "language_info": {
   "codemirror_mode": {
    "name": "ipython",
    "version": 3
   },
   "file_extension": ".py",
   "mimetype": "text/x-python",
   "name": "python",
   "nbconvert_exporter": "python",
   "pygments_lexer": "ipython3",
   "version": "3.7.4"
  }
 },
 "nbformat": 4,
 "nbformat_minor": 1
}
